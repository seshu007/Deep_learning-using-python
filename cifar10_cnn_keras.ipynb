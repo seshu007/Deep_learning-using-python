{
 "cells": [
  {
   "cell_type": "markdown",
   "metadata": {},
   "source": [
    "# Classifying cifar-10 images with 2D-CNN"
   ]
  },
  {
   "cell_type": "markdown",
   "metadata": {},
   "source": [
    "### Read cifar-10 data"
   ]
  },
  {
   "cell_type": "code",
   "execution_count": 1,
   "metadata": {},
   "outputs": [
    {
     "name": "stdout",
     "output_type": "stream",
     "text": [
      "train_data: (50000, 32, 32, 3)\n",
      "train_labels: (50000, 1)\n",
      "test_data: (10000, 32, 32, 3)\n",
      "test_labels: (10000, 1)\n"
     ]
    }
   ],
   "source": [
    "import numpy as np\n",
    "import os\n",
    "os.chdir(\"F:\\\\Class material\\\\ANN\\\\Deep Learning\\\\CNN\\Batch49_cnn_files\\\\Batch49_cnn_files\\\\cifar10_cnn\")\n",
    "train = np.load('cifar_train.npz')\n",
    "x_train = train['data']\n",
    "train_labels = train['labels']\n",
    "\n",
    "test = np.load('cifar_test.npz')\n",
    "x_test = test['data']\n",
    "test_labels = test['labels']\n",
    "\n",
    "print('train_data:', x_train.shape)\n",
    "print('train_labels:', train_labels.shape)\n",
    "print('test_data:', x_test.shape)\n",
    "print('test_labels:', test_labels.shape)"
   ]
  },
  {
   "cell_type": "markdown",
   "metadata": {},
   "source": [
    "### Plotting a few train images"
   ]
  },
  {
   "cell_type": "code",
   "execution_count": 2,
   "metadata": {},
   "outputs": [
    {
     "data": {
      "text/plain": [
       "<matplotlib.image.AxesImage at 0x1d151c18d68>"
      ]
     },
     "execution_count": 2,
     "metadata": {},
     "output_type": "execute_result"
    },
    {
     "data": {
      "image/png": "[encoded data removed]",
      "text/plain": [
       "<Figure size 1440x720 with 3 Axes>"
      ]
     },
     "metadata": {},
     "output_type": "display_data"
    }
   ],
   "source": [
    "import matplotlib.pyplot as plt\n",
    "%matplotlib inline\n",
    "plt.figure(figsize=(20,10))\n",
    "plt.subplot(3,3,1)\n",
    "plt.imshow(x_train[14])\n",
    "plt.subplot(3,3,2)\n",
    "plt.imshow(x_train[6])\n",
    "plt.subplot(3,3,3)\n",
    "plt.imshow(x_train[2])"
   ]
  },
  {
   "cell_type": "markdown",
   "metadata": {},
   "source": [
    "### Training a CNN for classification"
   ]
  },
  {
   "cell_type": "code",
   "execution_count": 3,
   "metadata": {},
   "outputs": [
    {
     "name": "stderr",
     "output_type": "stream",
     "text": [
      "D:\\Anaconda\\lib\\site-packages\\h5py\\__init__.py:36: FutureWarning: Conversion of the second argument of issubdtype from `float` to `np.floating` is deprecated. In future, it will be treated as `np.float64 == np.dtype(float).type`.\n",
      "  from ._conv import register_converters as _register_converters\n",
      "Using TensorFlow backend.\n"
     ]
    },
    {
     "name": "stdout",
     "output_type": "stream",
     "text": [
      "(50000, 10)\n",
      "(10000, 10)\n"
     ]
    }
   ],
   "source": [
    "batch_size = 32\n",
    "nb_classes = 10\n",
    "nb_epoch = 10\n",
    "\n",
    "img_rows, img_cols = 32, 32    # input image dimensions\n",
    "img_channels = 3               # The CIFAR10 images are RGB.\n",
    "\n",
    "# Normalize the data\n",
    "x_train = x_train.astype('float32')\n",
    "x_test = x_test.astype('float32')\n",
    "x_train /= 255.\n",
    "x_test /= 255.\n",
    "\n",
    "# Convert class vectors to binary class matrices.\n",
    "from keras.utils import to_categorical\n",
    "y_train = to_categorical(train_labels, nb_classes)\n",
    "y_test = to_categorical(test_labels, nb_classes)\n",
    "\n",
    "print(y_train.shape)\n",
    "print(y_test.shape)"
   ]
  },
  {
   "cell_type": "code",
   "execution_count": 6,
   "metadata": {},
   "outputs": [],
   "source": [
    "import keras\n",
    "from keras.models import Sequential\n",
    "from keras.layers import Dense, Dropout, Flatten\n",
    "from keras.layers import Convolution2D, MaxPooling2D"
   ]
  },
  {
   "cell_type": "code",
   "execution_count": 8,
   "metadata": {},
   "outputs": [],
   "source": [
    "model = Sequential()\n",
    "model.add(Convolution2D(filters=32, kernel_size=(3, 3), padding='same', \n",
    "                        input_shape=(img_rows,img_cols,img_channels), \n",
    "                        activation='relu'))\n",
    "model.add(Convolution2D(filters=32, kernel_size=(3, 3), activation='relu'))\n",
    "model.add(MaxPooling2D(pool_size=(2, 2)))\n",
    "model.add(Dropout(0.25))\n",
    "\n",
    "model.add(Convolution2D(filters=64, kernel_size=(3, 3), padding='same', activation='relu'))\n",
    "model.add(Convolution2D(filters=64, kernel_size=(3, 3), activation='relu'))\n",
    "model.add(MaxPooling2D(pool_size=(2, 2)))\n",
    "model.add(Dropout(0.25))\n",
    "\n",
    "model.add(Flatten())\n",
    "model.add(Dense(512, activation='relu'))\n",
    "model.add(Dropout(0.5))\n",
    "model.add(Dense(nb_classes, activation='softmax'))"
   ]
  },
  {
   "cell_type": "code",
   "execution_count": 11,
   "metadata": {},
   "outputs": [],
   "source": [
    "model.compile(loss='categorical_crossentropy',\n",
    "              optimizer='adam',\n",
    "              metrics=['accuracy'])"
   ]
  },
  {
   "cell_type": "code",
   "execution_count": 10,
   "metadata": {},
   "outputs": [
    {
     "name": "stdout",
     "output_type": "stream",
     "text": [
      "_________________________________________________________________\n",
      "Layer (type)                 Output Shape              Param #   \n",
      "=================================================================\n",
      "conv2d_5 (Conv2D)            (None, 32, 32, 32)        896       \n",
      "_________________________________________________________________\n",
      "conv2d_6 (Conv2D)            (None, 30, 30, 32)        9248      \n",
      "_________________________________________________________________\n",
      "max_pooling2d_3 (MaxPooling2 (None, 15, 15, 32)        0         \n",
      "_________________________________________________________________\n",
      "dropout_4 (Dropout)          (None, 15, 15, 32)        0         \n",
      "_________________________________________________________________\n",
      "conv2d_7 (Conv2D)            (None, 15, 15, 64)        18496     \n",
      "_________________________________________________________________\n",
      "conv2d_8 (Conv2D)            (None, 13, 13, 64)        36928     \n",
      "_________________________________________________________________\n",
      "max_pooling2d_4 (MaxPooling2 (None, 6, 6, 64)          0         \n",
      "_________________________________________________________________\n",
      "dropout_5 (Dropout)          (None, 6, 6, 64)          0         \n",
      "_________________________________________________________________\n",
      "flatten_2 (Flatten)          (None, 2304)              0         \n",
      "_________________________________________________________________\n",
      "dense_3 (Dense)              (None, 512)               1180160   \n",
      "_________________________________________________________________\n",
      "dropout_6 (Dropout)          (None, 512)               0         \n",
      "_________________________________________________________________\n",
      "dense_4 (Dense)              (None, 10)                5130      \n",
      "=================================================================\n",
      "Total params: 1,250,858\n",
      "Trainable params: 1,250,858\n",
      "Non-trainable params: 0\n",
      "_________________________________________________________________\n"
     ]
    }
   ],
   "source": [
    "model.summary()"
   ]
  },
  {
   "cell_type": "code",
   "execution_count": 13,
   "metadata": {},
   "outputs": [
    {
     "name": "stdout",
     "output_type": "stream",
     "text": [
      "Train on 50000 samples, validate on 10000 samples\n",
      "Epoch 1/10\n",
      "50000/50000 [==============================] - 292s 6ms/step - loss: 1.3474 - acc: 0.5147 - val_loss: 1.1329 - val_acc: 0.5990\n",
      "Epoch 2/10\n",
      "50000/50000 [==============================] - 289s 6ms/step - loss: 1.0520 - acc: 0.6307 - val_loss: 0.8823 - val_acc: 0.6942\n",
      "Epoch 3/10\n",
      "50000/50000 [==============================] - 292s 6ms/step - loss: 0.9077 - acc: 0.6825 - val_loss: 0.8080 - val_acc: 0.7106\n",
      "Epoch 4/10\n",
      "50000/50000 [==============================] - 253s 5ms/step - loss: 0.8213 - acc: 0.7102 - val_loss: 0.7956 - val_acc: 0.7178\n",
      "Epoch 5/10\n",
      "50000/50000 [==============================] - 249s 5ms/step - loss: 0.7674 - acc: 0.7335 - val_loss: 0.7291 - val_acc: 0.7491\n",
      "Epoch 6/10\n",
      "50000/50000 [==============================] - 238s 5ms/step - loss: 0.7217 - acc: 0.7466 - val_loss: 0.7173 - val_acc: 0.7543\n",
      "Epoch 7/10\n",
      "50000/50000 [==============================] - 216s 4ms/step - loss: 0.6851 - acc: 0.7614 - val_loss: 0.6907 - val_acc: 0.7578\n",
      "Epoch 8/10\n",
      "50000/50000 [==============================] - 212s 4ms/step - loss: 0.6562 - acc: 0.7706 - val_loss: 0.6716 - val_acc: 0.7712\n",
      "Epoch 9/10\n",
      "50000/50000 [==============================] - 215s 4ms/step - loss: 0.6311 - acc: 0.7792 - val_loss: 0.6780 - val_acc: 0.7727\n",
      "Epoch 10/10\n",
      "50000/50000 [==============================] - 213s 4ms/step - loss: 0.6116 - acc: 0.7880 - val_loss: 0.6563 - val_acc: 0.7764\n"
     ]
    },
    {
     "data": {
      "text/plain": [
       "<keras.callbacks.History at 0x1d1000bf860>"
      ]
     },
     "execution_count": 13,
     "metadata": {},
     "output_type": "execute_result"
    }
   ],
   "source": [
    "model.fit(x_train[:50000], y_train[:50000],\n",
    "          batch_size=batch_size,\n",
    "          epochs=nb_epoch,\n",
    "          validation_data=(x_test[:10000], y_test[:10000]),\n",
    "          shuffle=True)"
   ]
  },
  {
   "cell_type": "code",
   "execution_count": null,
   "metadata": {},
   "outputs": [],
   "source": []
  }
 ],
 "metadata": {
  "anaconda-cloud": {},
  "kernelspec": {
   "display_name": "Python 3",
   "language": "python",
   "name": "python3"
  },
  "language_info": {
   "codemirror_mode": {
    "name": "ipython",
    "version": 3
   },
   "file_extension": ".py",
   "mimetype": "text/x-python",
   "name": "python",
   "nbconvert_exporter": "python",
   "pygments_lexer": "ipython3",
   "version": "3.6.5"
  }
 },
 "nbformat": 4,
 "nbformat_minor": 1
}

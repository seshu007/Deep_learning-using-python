{
 "cells": [
  {
   "cell_type": "markdown",
   "metadata": {},
   "source": [
    "## SDAE - Stacked Denoising Auto-Encoder\n",
    "\n",
    "Generally, weights in a neural network (for classification) are initialized randomly. This works fine when we have a lot of labelled data. But what if we have a lot of data but only a fraction of it is labelled? A good example of this case is google images. We have a ton of data there, but only a tiny fraction of it is actually labelled. Can we classify all the data by training a network only on that fraction of labelled data?\n",
    "\n",
    "In this experiment we demonstrate that initiaizing the network with pretrained SDAE weights boosts classification performance. In a stacked auto-encoder, every layer is trained individually to predict it's input. "
   ]
  },
  {
   "cell_type": "code",
   "execution_count": 1,
   "metadata": {},
   "outputs": [
    {
     "name": "stderr",
     "output_type": "stream",
     "text": [
      "Using TensorFlow backend.\n"
     ]
    },
    {
     "name": "stdout",
     "output_type": "stream",
     "text": [
      "(10000, 781)\n",
      "(10000, 10)\n",
      "(10000, 781)\n",
      "(10000, 10)\n"
     ]
    }
   ],
   "source": [
    "# Import the necessary libraries/modules\n",
    "import numpy as np # for array operations\n",
    "from keras.models import Model, Sequential # for defining the architectures\n",
    "from keras.layers import Dense, Dropout, Input # layers for building the network\n",
    "from keras.utils import to_categorical # to_categorical does one-hot encoding\n",
    "\n",
    "tmp = np.load('cifar_pca_train.npz')\n",
    "data = tmp['data']\n",
    "labels = tmp['labels']\n",
    "\n",
    "train_data = data[:10000]      # We'll use only 10000 out of 50000 samples for classification\n",
    "train_labels = labels[:10000]\n",
    "\n",
    "tmp = np.load('cifar_pca_test.npz')\n",
    "test_data = tmp['data']\n",
    "test_labels = tmp['labels']\n",
    "\n",
    "# Converting labels into one-hot vectors for training. one-hot encoding is nothing but dummyfing\n",
    "train_labels = to_categorical(train_labels, 10) \n",
    "test_labels = to_categorical(test_labels, 10)\n",
    "\n",
    "print(train_data.shape)\n",
    "print(train_labels.shape)\n",
    "print(test_data.shape)\n",
    "print(test_labels.shape)"
   ]
  },
  {
   "cell_type": "markdown",
   "metadata": {},
   "source": [
    "### Training an MLP for classification through randomly initialized weights\n",
    "#### Note:  We'll use only 10000 out of 50000 samples for classification"
   ]
  },
  {
   "cell_type": "code",
   "execution_count": 3,
   "metadata": {},
   "outputs": [
    {
     "name": "stdout",
     "output_type": "stream",
     "text": [
      "Train on 10000 samples, validate on 10000 samples\n",
      "Epoch 1/20\n",
      "10000/10000 [==============================] - 2s - loss: 2.1335 - acc: 0.2316 - val_loss: 1.8831 - val_acc: 0.3309\n",
      "Epoch 2/20\n",
      "10000/10000 [==============================] - 1s - loss: 1.9120 - acc: 0.3074 - val_loss: 1.7959 - val_acc: 0.3704\n",
      "Epoch 3/20\n",
      "10000/10000 [==============================] - 2s - loss: 1.8385 - acc: 0.3456 - val_loss: 1.7476 - val_acc: 0.3805\n",
      "Epoch 4/20\n",
      "10000/10000 [==============================] - 1s - loss: 1.7965 - acc: 0.3642 - val_loss: 1.7490 - val_acc: 0.3778\n",
      "Epoch 5/20\n",
      "10000/10000 [==============================] - 1s - loss: 1.7407 - acc: 0.3903 - val_loss: 1.7328 - val_acc: 0.3785\n",
      "Epoch 6/20\n",
      "10000/10000 [==============================] - 1s - loss: 1.7213 - acc: 0.3914 - val_loss: 1.7308 - val_acc: 0.3881\n",
      "Epoch 7/20\n",
      "10000/10000 [==============================] - 2s - loss: 1.6712 - acc: 0.4085 - val_loss: 1.7088 - val_acc: 0.3919\n",
      "Epoch 8/20\n",
      "10000/10000 [==============================] - 1s - loss: 1.6476 - acc: 0.4192 - val_loss: 1.7154 - val_acc: 0.3896\n",
      "Epoch 9/20\n",
      "10000/10000 [==============================] - 1s - loss: 1.6125 - acc: 0.4296 - val_loss: 1.7010 - val_acc: 0.3903\n",
      "Epoch 10/20\n",
      "10000/10000 [==============================] - 1s - loss: 1.5921 - acc: 0.4314 - val_loss: 1.6864 - val_acc: 0.4025\n",
      "Epoch 11/20\n",
      "10000/10000 [==============================] - 1s - loss: 1.5627 - acc: 0.4483 - val_loss: 1.6731 - val_acc: 0.4137\n",
      "Epoch 12/20\n",
      "10000/10000 [==============================] - 1s - loss: 1.5420 - acc: 0.4635 - val_loss: 1.6650 - val_acc: 0.4126\n",
      "Epoch 13/20\n",
      "10000/10000 [==============================] - 2s - loss: 1.5194 - acc: 0.4649 - val_loss: 1.6625 - val_acc: 0.4158\n",
      "Epoch 14/20\n",
      "10000/10000 [==============================] - 2s - loss: 1.4996 - acc: 0.4771 - val_loss: 1.6805 - val_acc: 0.4072\n",
      "Epoch 15/20\n",
      "10000/10000 [==============================] - 1s - loss: 1.4742 - acc: 0.4836 - val_loss: 1.6700 - val_acc: 0.4133\n",
      "Epoch 16/20\n",
      "10000/10000 [==============================] - 2s - loss: 1.4424 - acc: 0.4938 - val_loss: 1.6638 - val_acc: 0.4108\n",
      "Epoch 17/20\n",
      "10000/10000 [==============================] - 1s - loss: 1.4115 - acc: 0.5164 - val_loss: 1.6881 - val_acc: 0.4065\n",
      "Epoch 18/20\n",
      "10000/10000 [==============================] - 2s - loss: 1.3973 - acc: 0.5077 - val_loss: 1.6645 - val_acc: 0.4119\n",
      "Epoch 19/20\n",
      "10000/10000 [==============================] - 2s - loss: 1.3949 - acc: 0.5113 - val_loss: 1.6518 - val_acc: 0.4227\n",
      "Epoch 20/20\n",
      "10000/10000 [==============================] - 2s - loss: 1.3603 - acc: 0.5207 - val_loss: 1.6645 - val_acc: 0.4167\n"
     ]
    }
   ],
   "source": [
    "# training a simple one hidden layer MLP for classification task\n",
    "\n",
    "mlp = Sequential()\n",
    "mlp.add(Dropout(0.2, input_shape=(781,)))\n",
    "mlp.add(Dense(1000, activation='sigmoid'))\n",
    "mlp.add(Dropout(0.5))\n",
    "mlp.add(Dense(800, activation='sigmoid'))\n",
    "mlp.add(Dropout(0.5))\n",
    "mlp.add(Dense(10, activation='softmax'))\n",
    "\n",
    "nb_epoch = 20\n",
    "batch_size = 32\n",
    "\n",
    "mlp.compile(loss='categorical_crossentropy',\n",
    "              optimizer='adam',\n",
    "              metrics=['accuracy'])\n",
    "\n",
    "\n",
    "history = mlp.fit(train_data, train_labels,\n",
    "                    batch_size=batch_size,\n",
    "                    epochs=nb_epoch,\n",
    "                    validation_data=(test_data, test_labels))"
   ]
  },
  {
   "cell_type": "markdown",
   "metadata": {},
   "source": [
    "### Train a two layer stacked autoencoder\n",
    "#### Note:  We'll use all 50000 samples for training. Since no labels are required for autoencoder.\n",
    "\n",
    "The way we do this is: \n",
    "1. Train an AE (autoencoder) with 1000 nodes on the original 781 features. So this will give 1000 encoded features.\n",
    "2. Train another AE (autoencoder1) with 800 nodes on the above 1000 features.\n",
    "\n",
    "The weights of the encoding layers of the above two netwroks can be used to initialize the MLP for classification ."
   ]
  },
  {
   "cell_type": "code",
   "execution_count": 4,
   "metadata": {},
   "outputs": [
    {
     "name": "stdout",
     "output_type": "stream",
     "text": [
      "Train on 50000 samples, validate on 10000 samples\n",
      "Epoch 1/20\n",
      "50000/50000 [==============================] - 5s - loss: 0.5837 - val_loss: 0.2341\n",
      "Epoch 2/20\n",
      "50000/50000 [==============================] - 5s - loss: 0.5384 - val_loss: 0.2161\n",
      "Epoch 3/20\n",
      "50000/50000 [==============================] - 5s - loss: 0.5307 - val_loss: 0.2103\n",
      "Epoch 4/20\n",
      "50000/50000 [==============================] - 5s - loss: 0.5278 - val_loss: 0.2046\n",
      "Epoch 5/20\n",
      "50000/50000 [==============================] - 5s - loss: 0.5249 - val_loss: 0.2025\n",
      "Epoch 6/20\n",
      "50000/50000 [==============================] - 5s - loss: 0.5234 - val_loss: 0.1995\n",
      "Epoch 7/20\n",
      "50000/50000 [==============================] - 5s - loss: 0.5217 - val_loss: 0.1990\n",
      "Epoch 8/20\n",
      "50000/50000 [==============================] - 5s - loss: 0.5219 - val_loss: 0.1962\n",
      "Epoch 9/20\n",
      "50000/50000 [==============================] - 5s - loss: 0.5192 - val_loss: 0.1968\n",
      "Epoch 10/20\n",
      "50000/50000 [==============================] - 5s - loss: 0.5182 - val_loss: 0.1977\n",
      "Epoch 11/20\n",
      "50000/50000 [==============================] - 5s - loss: 0.5156 - val_loss: 0.1952\n",
      "Epoch 12/20\n",
      "50000/50000 [==============================] - 5s - loss: 0.5161 - val_loss: 0.1970\n",
      "Epoch 13/20\n",
      "50000/50000 [==============================] - 5s - loss: 0.5142 - val_loss: 0.1965\n",
      "Epoch 14/20\n",
      "50000/50000 [==============================] - 5s - loss: 0.5127 - val_loss: 0.1960\n",
      "Epoch 15/20\n",
      "50000/50000 [==============================] - 5s - loss: 0.5124 - val_loss: 0.1990\n",
      "Epoch 16/20\n",
      "50000/50000 [==============================] - 5s - loss: 0.5118 - val_loss: 0.2003\n",
      "Epoch 17/20\n",
      "50000/50000 [==============================] - 5s - loss: 0.5101 - val_loss: 0.2015\n",
      "Epoch 18/20\n",
      "50000/50000 [==============================] - 5s - loss: 0.5079 - val_loss: 0.2037\n",
      "Epoch 19/20\n",
      "50000/50000 [==============================] - 5s - loss: 0.5097 - val_loss: 0.2052\n",
      "Epoch 20/20\n",
      "50000/50000 [==============================] - 5s - loss: 0.5072 - val_loss: 0.2078\n"
     ]
    }
   ],
   "source": [
    "# Training an autoencoder model on cifar-10 PCA reduced data\n",
    "\n",
    "input_img = Input(shape=(781,))\n",
    "crrpt_img = Dropout(0.5)(input_img)\n",
    "encoded = Dense(1000, activation='sigmoid')(crrpt_img)\n",
    "decoded = Dense(781, activation='linear')(encoded)\n",
    "\n",
    "autoencoder = Model(input_img,decoded)\n",
    "\n",
    "nb_epoch = 20\n",
    "batch_size = 32\n",
    "\n",
    "autoencoder.compile(optimizer='adam',\n",
    "                    loss='mean_squared_error')\n",
    "\n",
    "history = autoencoder.fit(data, data,\n",
    "                    epochs=nb_epoch,\n",
    "                    batch_size=batch_size,\n",
    "                    shuffle=True,\n",
    "                    validation_data=(test_data, test_data))\n",
    "\n",
    "\n",
    "autoencoder.save('SDAE_l1_model.h5')"
   ]
  },
  {
   "cell_type": "code",
   "execution_count": 5,
   "metadata": {},
   "outputs": [],
   "source": [
    "encoder = Model(input_img,encoded)\n",
    "htrain_data = encoder.predict(data)"
   ]
  },
  {
   "cell_type": "code",
   "execution_count": 6,
   "metadata": {},
   "outputs": [
    {
     "name": "stdout",
     "output_type": "stream",
     "text": [
      "Epoch 1/20\n",
      "50000/50000 [==============================] - 6s - loss: 0.5020     \n",
      "Epoch 2/20\n",
      "50000/50000 [==============================] - 5s - loss: 0.4825     \n",
      "Epoch 3/20\n",
      "50000/50000 [==============================] - 5s - loss: 0.4801     \n",
      "Epoch 4/20\n",
      "50000/50000 [==============================] - 5s - loss: 0.4791     \n",
      "Epoch 5/20\n",
      "50000/50000 [==============================] - 5s - loss: 0.4787     \n",
      "Epoch 6/20\n",
      "50000/50000 [==============================] - 6s - loss: 0.4784     \n",
      "Epoch 7/20\n",
      "50000/50000 [==============================] - 5s - loss: 0.4782     \n",
      "Epoch 8/20\n",
      "50000/50000 [==============================] - 5s - loss: 0.4780     \n",
      "Epoch 9/20\n",
      "50000/50000 [==============================] - 5s - loss: 0.4778     \n",
      "Epoch 10/20\n",
      "50000/50000 [==============================] - 5s - loss: 0.4777     \n",
      "Epoch 11/20\n",
      "50000/50000 [==============================] - 6s - loss: 0.4776     \n",
      "Epoch 12/20\n",
      "50000/50000 [==============================] - 6s - loss: 0.4774     \n",
      "Epoch 13/20\n",
      "50000/50000 [==============================] - 6s - loss: 0.4774     \n",
      "Epoch 14/20\n",
      "50000/50000 [==============================] - 5s - loss: 0.4772     \n",
      "Epoch 15/20\n",
      "50000/50000 [==============================] - 5s - loss: 0.4771     \n",
      "Epoch 16/20\n",
      "50000/50000 [==============================] - 6s - loss: 0.4771     \n",
      "Epoch 17/20\n",
      "50000/50000 [==============================] - 5s - loss: 0.4770     \n",
      "Epoch 18/20\n",
      "50000/50000 [==============================] - 6s - loss: 0.4769     \n",
      "Epoch 19/20\n",
      "50000/50000 [==============================] - 6s - loss: 0.4768     \n",
      "Epoch 20/20\n",
      "50000/50000 [==============================] - 6s - loss: 0.4768     \n"
     ]
    }
   ],
   "source": [
    "input_img1 = Input(shape=(1000,))\n",
    "crrpt_img1 = Dropout(0.5)(input_img1)\n",
    "encoded1 = Dense(800, activation='sigmoid')(crrpt_img1)\n",
    "decoded1 = Dense(1000, activation='sigmoid')(encoded1)\n",
    "\n",
    "autoencoder1 = Model(input_img1,decoded1)\n",
    "\n",
    "autoencoder1.compile(optimizer='adam',\n",
    "                    loss='binary_crossentropy')\n",
    "\n",
    "history = autoencoder1.fit(htrain_data, htrain_data,\n",
    "                    epochs=nb_epoch,\n",
    "                    batch_size=batch_size,\n",
    "                    shuffle=True)\n",
    "\n",
    "autoencoder1.save('SDAE_l2_model.h5')"
   ]
  },
  {
   "cell_type": "code",
   "execution_count": 8,
   "metadata": {},
   "outputs": [
    {
     "data": {
      "text/plain": [
       "[0.50201290034294133,\n",
       " 0.48248770041465761,\n",
       " 0.48005497880935671,\n",
       " 0.47914626605987548,\n",
       " 0.47867883778572085,\n",
       " 0.47839034770011901,\n",
       " 0.47817189907073976,\n",
       " 0.47795296325683595,\n",
       " 0.47778135187149046,\n",
       " 0.47768380585670472,\n",
       " 0.47758046679496763,\n",
       " 0.47743361221313474,\n",
       " 0.47738703725814818,\n",
       " 0.47719481215476989,\n",
       " 0.47712607245445249,\n",
       " 0.47705453159332273,\n",
       " 0.47699410514831542,\n",
       " 0.47690007112503052,\n",
       " 0.47684359521865843,\n",
       " 0.47676485745429992]"
      ]
     },
     "execution_count": 8,
     "metadata": {},
     "output_type": "execute_result"
    }
   ],
   "source": [
    "history.history.keys()\n",
    "history.history['loss']"
   ]
  },
  {
   "cell_type": "markdown",
   "metadata": {},
   "source": [
    "### Training an MLP for classification through randomly initialized weights"
   ]
  },
  {
   "cell_type": "code",
   "execution_count": 9,
   "metadata": {},
   "outputs": [],
   "source": [
    "# Training with unsupervised initialization for layer-1 \n",
    "# of an MLP using autoencoder weights\n",
    "\n",
    "mlp = Sequential()\n",
    "mlp.add(Dropout(0.2, input_shape=(781,)))\n",
    "mlp.add(Dense(1000, activation='sigmoid'))\n",
    "mlp.add(Dropout(0.5))\n",
    "mlp.add(Dense(800, activation='sigmoid'))\n",
    "mlp.add(Dropout(0.5))\n",
    "mlp.add(Dense(10, activation='softmax'))\n",
    "\n",
    "mlp.compile(loss='categorical_crossentropy',\n",
    "              optimizer='adam',\n",
    "              metrics=['accuracy'])"
   ]
  },
  {
   "cell_type": "code",
   "execution_count": 11,
   "metadata": {},
   "outputs": [
    {
     "data": {
      "text/plain": [
       "[<keras.layers.core.Dropout at 0x1433f5d0>,\n",
       " <keras.layers.core.Dense at 0x12207b90>,\n",
       " <keras.layers.core.Dropout at 0x12207910>,\n",
       " <keras.layers.core.Dense at 0x1433ff50>,\n",
       " <keras.layers.core.Dropout at 0x1433f590>,\n",
       " <keras.layers.core.Dense at 0x14060bd0>]"
      ]
     },
     "execution_count": 11,
     "metadata": {},
     "output_type": "execute_result"
    }
   ],
   "source": [
    "mlp.layers"
   ]
  },
  {
   "cell_type": "code",
   "execution_count": 12,
   "metadata": {},
   "outputs": [
    {
     "name": "stdout",
     "output_type": "stream",
     "text": [
      "Train on 10000 samples, validate on 10000 samples\n",
      "Epoch 1/20\n",
      "10000/10000 [==============================] - 2s - loss: 2.0677 - acc: 0.2519 - val_loss: 1.7653 - val_acc: 0.3812\n",
      "Epoch 2/20\n",
      "10000/10000 [==============================] - 1s - loss: 1.8361 - acc: 0.3414 - val_loss: 1.6952 - val_acc: 0.4117\n",
      "Epoch 3/20\n",
      "10000/10000 [==============================] - 1s - loss: 1.7338 - acc: 0.3859 - val_loss: 1.6764 - val_acc: 0.3890\n",
      "Epoch 4/20\n",
      "10000/10000 [==============================] - 1s - loss: 1.6786 - acc: 0.4046 - val_loss: 1.6271 - val_acc: 0.4233\n",
      "Epoch 5/20\n",
      "10000/10000 [==============================] - 1s - loss: 1.6052 - acc: 0.4375 - val_loss: 1.6117 - val_acc: 0.4236\n",
      "Epoch 6/20\n",
      "10000/10000 [==============================] - 1s - loss: 1.5431 - acc: 0.4553 - val_loss: 1.5880 - val_acc: 0.4353\n",
      "Epoch 7/20\n",
      "10000/10000 [==============================] - 1s - loss: 1.4929 - acc: 0.4744 - val_loss: 1.5768 - val_acc: 0.4382\n",
      "Epoch 8/20\n",
      "10000/10000 [==============================] - 1s - loss: 1.4474 - acc: 0.4918 - val_loss: 1.5720 - val_acc: 0.4390\n",
      "Epoch 9/20\n",
      "10000/10000 [==============================] - 1s - loss: 1.3866 - acc: 0.5165 - val_loss: 1.5739 - val_acc: 0.4399\n",
      "Epoch 10/20\n",
      "10000/10000 [==============================] - 1s - loss: 1.3491 - acc: 0.5251 - val_loss: 1.5703 - val_acc: 0.4357\n",
      "Epoch 11/20\n",
      "10000/10000 [==============================] - 2s - loss: 1.3030 - acc: 0.5487 - val_loss: 1.5529 - val_acc: 0.4499\n",
      "Epoch 12/20\n",
      "10000/10000 [==============================] - 2s - loss: 1.2515 - acc: 0.5601 - val_loss: 1.5782 - val_acc: 0.4405\n",
      "Epoch 13/20\n",
      "10000/10000 [==============================] - 2s - loss: 1.2317 - acc: 0.5696 - val_loss: 1.5430 - val_acc: 0.4471\n",
      "Epoch 14/20\n",
      "10000/10000 [==============================] - 1s - loss: 1.1972 - acc: 0.5847 - val_loss: 1.5518 - val_acc: 0.4469\n",
      "Epoch 15/20\n",
      "10000/10000 [==============================] - 1s - loss: 1.1804 - acc: 0.5904 - val_loss: 1.5469 - val_acc: 0.4477\n",
      "Epoch 16/20\n",
      "10000/10000 [==============================] - 2s - loss: 1.1405 - acc: 0.6000 - val_loss: 1.5623 - val_acc: 0.4463\n",
      "Epoch 17/20\n",
      "10000/10000 [==============================] - 2s - loss: 1.0949 - acc: 0.6202 - val_loss: 1.5673 - val_acc: 0.4473\n",
      "Epoch 18/20\n",
      "10000/10000 [==============================] - 2s - loss: 1.0729 - acc: 0.6215 - val_loss: 1.5674 - val_acc: 0.4564\n",
      "Epoch 19/20\n",
      "10000/10000 [==============================] - 2s - loss: 1.0238 - acc: 0.6424 - val_loss: 1.5680 - val_acc: 0.4528\n",
      "Epoch 20/20\n",
      "10000/10000 [==============================] - 1s - loss: 1.0175 - acc: 0.6501 - val_loss: 1.5659 - val_acc: 0.4513\n"
     ]
    }
   ],
   "source": [
    "mlp.layers[1].set_weights(autoencoder.layers[2].get_weights())   # Import the encoder weights of autoencoder  \n",
    "mlp.layers[3].set_weights(autoencoder1.layers[2].get_weights())  # Import the encoder weights of autoencoder1\n",
    "\n",
    "history = mlp.fit(train_data, train_labels,\n",
    "                    batch_size=batch_size,\n",
    "                    epochs=nb_epoch,\n",
    "                    validation_data=(test_data, test_labels))"
   ]
  },
  {
   "cell_type": "code",
   "execution_count": null,
   "metadata": {},
   "outputs": [],
   "source": []
  }
 ],
 "metadata": {
  "anaconda-cloud": {},
  "kernelspec": {
   "display_name": "Python 3",
   "language": "python",
   "name": "python3"
  },
  "language_info": {
   "codemirror_mode": {
    "name": "ipython",
    "version": 3
   },
   "file_extension": ".py",
   "mimetype": "text/x-python",
   "name": "python",
   "nbconvert_exporter": "python",
   "pygments_lexer": "ipython3",
   "version": "3.6.5"
  }
 },
 "nbformat": 4,
 "nbformat_minor": 1
}
